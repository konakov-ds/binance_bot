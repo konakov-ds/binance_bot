{
 "cells": [
  {
   "cell_type": "code",
   "execution_count": 1,
   "metadata": {},
   "outputs": [],
   "source": [
    "import pandas as pd\n",
    "import sqlalchemy\n",
    "from binance import Client\n",
    "from binance import BinanceSocketManager\n",
    "import asyncio"
   ]
  },
  {
   "cell_type": "code",
   "execution_count": 2,
   "metadata": {},
   "outputs": [],
   "source": [
    "with open('access.txt') as f:\n",
    "    acc = f.readlines()\n",
    "api = acc[0].strip()\n",
    "key = acc[1].strip()"
   ]
  },
  {
   "cell_type": "code",
   "execution_count": 3,
   "metadata": {},
   "outputs": [],
   "source": [
    "client = Client(api, key)"
   ]
  },
  {
   "cell_type": "code",
   "execution_count": 4,
   "metadata": {},
   "outputs": [],
   "source": [
    "def create_df(message):\n",
    "    df = pd.DataFrame([message])\n",
    "    df = df.loc[:,['s','E','p','q']]\n",
    "    df.E = pd.to_datetime(df.E, unit='ms') + pd.Timedelta('03:00:00')\n",
    "    df[['p','q']] =  df[['p','q']].astype('float')\n",
    "    df.columns = ['Symbol','Time','Price','Quantity']\n",
    "    return df"
   ]
  },
  {
   "cell_type": "code",
   "execution_count": 5,
   "metadata": {},
   "outputs": [
    {
     "data": {
      "text/plain": [
       "<sqlalchemy.engine.result.ResultProxy at 0x7ff77f776970>"
      ]
     },
     "execution_count": 5,
     "metadata": {},
     "output_type": "execute_result"
    }
   ],
   "source": [
    "# create stream and drop table\n",
    "engine = sqlalchemy.create_engine('sqlite:///DogeTrade.db')\n",
    "conn = engine.connect()\n",
    "conn.execute(f'DROP TABLE IF EXISTS doge_test_1')"
   ]
  },
  {
   "cell_type": "code",
   "execution_count": 6,
   "metadata": {},
   "outputs": [],
   "source": [
    "# start stream\n",
    "async def start_stream():\n",
    "    bsm = BinanceSocketManager(client)\n",
    "    socket = bsm.trade_socket('DOGEUSDT')\n",
    "    while True:\n",
    "        await socket.__aenter__()\n",
    "        msg = await socket.recv()\n",
    "        df = create_df(msg)\n",
    "        df.to_sql('doge_test_1', engine, if_exists='append', index=False)"
   ]
  },
  {
   "cell_type": "code",
   "execution_count": null,
   "metadata": {},
   "outputs": [],
   "source": [
    "#await start_stream()"
   ]
  },
  {
   "cell_type": "code",
   "execution_count": null,
   "metadata": {},
   "outputs": [],
   "source": []
  }
 ],
 "metadata": {
  "kernelspec": {
   "display_name": "Python 3",
   "language": "python",
   "name": "python3"
  }
 },
 "nbformat": 4,
 "nbformat_minor": 4
}
