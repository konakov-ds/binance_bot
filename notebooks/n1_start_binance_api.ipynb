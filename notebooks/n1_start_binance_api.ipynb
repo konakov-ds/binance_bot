{
 "cells": [
  {
   "cell_type": "code",
   "execution_count": 2,
   "metadata": {},
   "outputs": [],
   "source": [
    "#pip install python-binance"
   ]
  },
  {
   "cell_type": "code",
   "execution_count": 163,
   "metadata": {},
   "outputs": [],
   "source": [
    "from binance import Client\n",
    "import pandas as pd\n",
    "import matplotlib.pyplot as plt\n",
    "import time"
   ]
  },
  {
   "cell_type": "code",
   "execution_count": 2,
   "metadata": {},
   "outputs": [],
   "source": [
    "with open('access.txt') as f:\n",
    "    acc = f.readlines()\n",
    "api = acc[0].strip()\n",
    "key = acc[1].strip()"
   ]
  },
  {
   "cell_type": "code",
   "execution_count": 3,
   "metadata": {},
   "outputs": [],
   "source": [
    "client = Client(api,key)"
   ]
  },
  {
   "cell_type": "code",
   "execution_count": 22,
   "metadata": {},
   "outputs": [],
   "source": [
    "def get_interval_data(currency, interval, lookback):\n",
    "    interval_data = pd.DataFrame(client.get_historical_klines(currency, interval, lookback + ' minutes ago UTC'))\n",
    "    interval_data = interval_data.iloc[:, :6]\n",
    "    interval_data.columns = ['Time', 'Open', 'High','Low','Close', 'Volume']\n",
    "    interval_data.set_index('Time', inplace=True)\n",
    "    interval_data.index = pd.to_datetime(interval_data.index, unit ='ms')\n",
    "    interval_data = interval_data.astype(float)\n",
    "    return interval_data"
   ]
  },
  {
   "cell_type": "code",
   "execution_count": 60,
   "metadata": {},
   "outputs": [],
   "source": [
    "frame = get_interval_data('DOGEUSDT', '1m', '30')"
   ]
  },
  {
   "cell_type": "code",
   "execution_count": 61,
   "metadata": {
    "scrolled": true
   },
   "outputs": [
    {
     "data": {
      "image/png": "[encoded data removed]",
      "text/plain": [
       "<Figure size 432x288 with 1 Axes>"
      ]
     },
     "metadata": {
      "needs_background": "light"
     },
     "output_type": "display_data"
    }
   ],
   "source": [
    "frame.Low.plot();\n",
    "frame.High.plot();"
   ]
  },
  {
   "cell_type": "code",
   "execution_count": 171,
   "metadata": {},
   "outputs": [],
   "source": [
    "class TestTrade:\n",
    "    def __init__(self, symb, qnty, entered=False):\n",
    "        self.symb = symb\n",
    "        self.qnty = qnty\n",
    "        self.entered = entered\n",
    "        self.buy_orders = []\n",
    "        self.sell_orders = []\n",
    "    \n",
    "    def get_interval_data(self, interval, lookback):\n",
    "        interval_data = pd.DataFrame(client.get_historical_klines(self.symb, interval, lookback + ' minutes ago UTC'))\n",
    "        interval_data = interval_data.iloc[:, :6]\n",
    "        interval_data.columns = ['Time', 'Open', 'High','Low','Close', 'Volume']\n",
    "        interval_data.set_index('Time', inplace=True)\n",
    "        interval_data.index = pd.to_datetime(interval_data.index, unit ='ms')\n",
    "        interval_data = interval_data.astype(float)\n",
    "        return interval_data\n",
    "        \n",
    "    def buy_order(self):\n",
    "        while True:\n",
    "            frame = self.get_interval_data('1m', '100')\n",
    "            change = (frame.Open.pct_change() +1).cumprod() - 1\n",
    "            if change[-1] < -0.005:\n",
    "                \n",
    "                order = client.create_order(symbol=self.symb,side='BUY', type='MARKET', quantity=self.qnty)\n",
    "                print('BUY order executed')\n",
    "                self.entered = True\n",
    "                self.buy_orders.append(order)\n",
    "                break\n",
    "    \n",
    "    def sell_order(self):\n",
    "        time_buy = pd.to_datetime(self.buy_orders[-1]['transactTime'],unit='ms')\n",
    "        while True:\n",
    "            frame = self.get_interval_data('1m', '100')\n",
    "            since_buy = frame.loc[frame.index > time_buy]\n",
    "            if len(since_buy) > 0:\n",
    "                change = (since_buy.Open.pct_change() +1).cumprod() -1\n",
    "                if change[-1] > 0.005:\n",
    "                    order = client.create_order(symbol=self.symb,side='SELL', type='MARKET', quantity=self.qnty)\n",
    "                    print('SELL order executed')\n",
    "                    self.entered = False\n",
    "                    self.sell_orders.append(order)\n",
    "                    break\n",
    "                \n",
    "    def trade(self):\n",
    "   \n",
    "        while len(self.buy_orders) < 3:\n",
    "            if not self.entered:\n",
    "                self.buy_order()\n",
    "            if self.entered:\n",
    "                self.sell_order()\n",
    "                time.sleep(10)"
   ]
  },
  {
   "cell_type": "code",
   "execution_count": 178,
   "metadata": {
    "scrolled": true
   },
   "outputs": [],
   "source": [
    "test_trade = TestTrade('DOGEUSDT', 100)\n",
    "#test_trade.trade()"
   ]
  },
  {
   "cell_type": "code",
   "execution_count": 174,
   "metadata": {},
   "outputs": [],
   "source": [
    "b = [float(i['cummulativeQuoteQty']) for i in test_trade.buy_orders]"
   ]
  },
  {
   "cell_type": "code",
   "execution_count": 175,
   "metadata": {},
   "outputs": [
    {
     "data": {
      "text/plain": [
       "[23.301]"
      ]
     },
     "execution_count": 175,
     "metadata": {},
     "output_type": "execute_result"
    }
   ],
   "source": [
    "b"
   ]
  },
  {
   "cell_type": "code",
   "execution_count": 176,
   "metadata": {},
   "outputs": [],
   "source": [
    "s = [float(i['cummulativeQuoteQty']) for i in test_trade.sell_orders]"
   ]
  },
  {
   "cell_type": "code",
   "execution_count": 177,
   "metadata": {},
   "outputs": [
    {
     "data": {
      "text/plain": [
       "[]"
      ]
     },
     "execution_count": 177,
     "metadata": {},
     "output_type": "execute_result"
    }
   ],
   "source": [
    "s"
   ]
  },
  {
   "cell_type": "code",
   "execution_count": null,
   "metadata": {},
   "outputs": [],
   "source": []
  }
 ],
 "metadata": {
  "kernelspec": {
   "display_name": "Python 3",
   "language": "python",
   "name": "python3"
  },
  "language_info": {
   "codemirror_mode": {
    "name": "ipython",
    "version": 3
   },
   "file_extension": ".py",
   "mimetype": "text/x-python",
   "name": "python",
   "nbconvert_exporter": "python",
   "pygments_lexer": "ipython3",
   "version": "3.8.5"
  }
 },
 "nbformat": 4,
 "nbformat_minor": 4
}
